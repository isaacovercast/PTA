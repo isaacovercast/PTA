{
 "cells": [
  {
   "cell_type": "code",
   "execution_count": 15,
   "metadata": {},
   "outputs": [
    {
     "name": "stdout",
     "output_type": "stream",
     "text": [
      "The autoreload extension is already loaded. To reload it, use:\n",
      "  %reload_ext autoreload\n"
     ]
    }
   ],
   "source": [
    "%load_ext autoreload\n",
    "%autoreload 2\n",
    "%matplotlib inline\n",
    "\n",
    "import glob\n",
    "import matplotlib.pyplot as plt\n",
    "import numpy as np\n",
    "import pandas as pd\n",
    "import PTA\n",
    "\n",
    "from PTA import jmsfs"
   ]
  },
  {
   "cell_type": "code",
   "execution_count": 80,
   "metadata": {},
   "outputs": [
    {
     "data": {
      "text/plain": [
       "\n",
       "    jMSFS: ntaxa=3 - shape=(6, 6)\n",
       "\n",
       "[[[480.9821 163.3869  61.8644  19.4405  13.8858  73.5179]\n",
       "  [160.686    0.3348   0.2232   0.287    0.1435   2.6786]\n",
       "  [ 60.5952   0.       0.0638   0.1913   0.0957   1.8571]\n",
       "  [ 19.1786   0.       0.       0.       0.       0.4286]\n",
       "  [ 14.125    0.       0.       0.       0.       0.0714]\n",
       "  [ 27.9286   0.5357   0.3571   0.       0.       0.    ]]\n",
       "\n",
       " [[447.6607 144.9821  56.6786  19.4405  11.8988  73.4107]\n",
       "  [132.75     0.       0.0957   0.       0.       2.2143]\n",
       "  [ 51.3214   0.       0.       0.       0.       1.7857]\n",
       "  [ 18.6429   0.       0.       0.       0.       0.4286]\n",
       "  [ 11.0536   0.       0.       0.       0.       0.0714]\n",
       "  [ 27.0536   0.       0.       0.       0.       0.    ]]\n",
       "\n",
       " [[415.3795 144.6473  56.4554  16.236   11.8988  17.7162]\n",
       "  [132.2143   0.       0.       0.       0.       1.1524]\n",
       "  [ 50.7857   0.       0.       0.       0.       1.1492]\n",
       "  [ 16.7143   0.       0.       0.       0.       0.    ]\n",
       "  [ 10.7857   0.       0.       0.       0.       0.    ]\n",
       "  [ 20.5179   0.       0.       0.       0.       0.    ]]]\n",
       "            "
      ]
     },
     "execution_count": 80,
     "metadata": {},
     "output_type": "execute_result"
    }
   ],
   "source": [
    "sfs_files = glob.glob(\"../example_data/simulated-2dsfs/5samps/*.sfs\")\n",
    "\n",
    "my_jmsfs = jmsfs.JointMultiSFS(sfs_files, proportions=False, sort=True)\n",
    "\n",
    "my_jmsfs"
   ]
  },
  {
   "cell_type": "code",
   "execution_count": 81,
   "metadata": {},
   "outputs": [
    {
     "data": {
      "text/plain": [
       "<matplotlib.colorbar.Colorbar at 0x7ff5aa847128>"
      ]
     },
     "execution_count": 81,
     "metadata": {},
     "output_type": "execute_result"
    },
    {
     "data": {
      "image/png": "[encoded data removed]",
      "text/plain": [
       "<Figure size 432x288 with 2 Axes>"
      ]
     },
     "metadata": {
      "needs_background": "light"
     },
     "output_type": "display_data"
    }
   ],
   "source": [
    "my_jmsfs.plot_2d_sfs(sfs_idx=1)"
   ]
  },
  {
   "cell_type": "markdown",
   "metadata": {},
   "source": [
    "# All this is now wrapped in PTA.jMSFS"
   ]
  },
  {
   "cell_type": "code",
   "execution_count": 17,
   "metadata": {},
   "outputs": [
    {
     "name": "stdout",
     "output_type": "stream",
     "text": [
      "['2D-SFS-Dev/3-4samps/pop2-pop3.sfs', '2D-SFS-Dev/3-4samps/pop1-pop3.sfs', '2D-SFS-Dev/3-4samps/pop1-pop2.sfs']\n",
      "(4, 5)\n"
     ]
    }
   ],
   "source": [
    "sfs_files = glob.glob(\"2D-SFS-Dev/3-4samps/*.sfs\")\n",
    "\n",
    "tmpjMSFS = []\n",
    "samps = open(sfs_files[0]).readlines()[0].split()[:2]\n",
    "jsfs_shape = (int(samps[0]), int(samps[1]))\n",
    "print(sfs_files)\n",
    "print(jsfs_shape)\n",
    "for f in sfs_files:\n",
    "    dat = open(f).readlines()\n",
    "    sfs_dat = np.array(dat[1].split(), dtype=float)\n",
    "    sfs_dat = sfs_dat.reshape(jsfs_shape)\n",
    "    tmpjMSFS.append(sfs_dat)\n"
   ]
  },
  {
   "cell_type": "code",
   "execution_count": 29,
   "metadata": {
    "collapsed": true
   },
   "outputs": [
    {
     "name": "stdout",
     "output_type": "stream",
     "text": [
      "[array([[5.19577381e+02, 1.44690476e+02, 4.34714286e+01, 1.51047619e+01,\n",
      "        6.96380952e+01],\n",
      "       [1.40196429e+02, 0.00000000e+00, 0.00000000e+00, 0.00000000e+00,\n",
      "        2.57142857e+00],\n",
      "       [3.72857143e+01, 0.00000000e+00, 0.00000000e+00, 0.00000000e+00,\n",
      "        8.57142857e-01],\n",
      "       [2.65357143e+01, 0.00000000e+00, 0.00000000e+00, 0.00000000e+00,\n",
      "        7.14285714e-02]]), array([[5.37902381e+02, 1.44690476e+02, 4.33910714e+01, 1.48904762e+01,\n",
      "        7.01113095e+01],\n",
      "       [1.17671429e+02, 0.00000000e+00, 8.03571429e-02, 2.14285714e-01,\n",
      "        2.59821429e+00],\n",
      "       [3.44857143e+01, 0.00000000e+00, 0.00000000e+00, 0.00000000e+00,\n",
      "        4.28571429e-01],\n",
      "       [3.35357143e+01, 0.00000000e+00, 0.00000000e+00, 0.00000000e+00,\n",
      "        0.00000000e+00]]), array([[6.10706378e+02, 1.40452806e+02, 3.72091837e+01, 2.26173469e+01,\n",
      "        1.00000000e+01],\n",
      "       [1.16823852e+02, 1.43494898e-01, 2.86989796e-01, 3.30994898e+00,\n",
      "        2.00000000e+00],\n",
      "       [3.41661990e+01, 2.86989796e-02, 5.73979592e-02, 6.61989796e-01,\n",
      "        1.00000000e-01],\n",
      "       [3.07857143e+01, 2.14285714e+00, 5.89285714e-01, 1.78571429e-02,\n",
      "        0.00000000e+00]])]\n"
     ]
    },
    {
     "data": {
      "text/plain": [
       "array([[[5.19577381e+02, 1.44690476e+02, 4.34714286e+01, 1.51047619e+01,\n",
       "         6.96380952e+01],\n",
       "        [1.40196429e+02, 0.00000000e+00, 0.00000000e+00, 0.00000000e+00,\n",
       "         2.57142857e+00],\n",
       "        [3.72857143e+01, 0.00000000e+00, 0.00000000e+00, 0.00000000e+00,\n",
       "         8.57142857e-01],\n",
       "        [2.65357143e+01, 0.00000000e+00, 0.00000000e+00, 0.00000000e+00,\n",
       "         7.14285714e-02]],\n",
       "\n",
       "       [[5.37902381e+02, 1.44690476e+02, 4.33910714e+01, 1.48904762e+01,\n",
       "         7.01113095e+01],\n",
       "        [1.17671429e+02, 0.00000000e+00, 8.03571429e-02, 2.14285714e-01,\n",
       "         2.59821429e+00],\n",
       "        [3.44857143e+01, 0.00000000e+00, 0.00000000e+00, 0.00000000e+00,\n",
       "         4.28571429e-01],\n",
       "        [3.35357143e+01, 0.00000000e+00, 0.00000000e+00, 0.00000000e+00,\n",
       "         0.00000000e+00]],\n",
       "\n",
       "       [[6.10706378e+02, 1.40452806e+02, 3.72091837e+01, 2.26173469e+01,\n",
       "         1.00000000e+01],\n",
       "        [1.16823852e+02, 1.43494898e-01, 2.86989796e-01, 3.30994898e+00,\n",
       "         2.00000000e+00],\n",
       "        [3.41661990e+01, 2.86989796e-02, 5.73979592e-02, 6.61989796e-01,\n",
       "         1.00000000e-01],\n",
       "        [3.07857143e+01, 2.14285714e+00, 5.89285714e-01, 1.78571429e-02,\n",
       "         0.00000000e+00]]])"
      ]
     },
     "execution_count": 29,
     "metadata": {},
     "output_type": "execute_result"
    }
   ],
   "source": [
    "print(tmpjMSFS)\n",
    "jMSFS = np.concatenate(tmpjMSFS, axis=0).reshape(len(sfs_files), jsfs_shape[0], jsfs_shape[1])\n",
    "jMSFS"
   ]
  },
  {
   "cell_type": "code",
   "execution_count": 133,
   "metadata": {},
   "outputs": [
    {
     "data": {
      "text/plain": [
       "array([[[6.10706378e+02, 1.44690476e+02, 4.34714286e+01, 2.26173469e+01,\n",
       "         7.01113095e+01],\n",
       "        [1.40196429e+02, 1.43494898e-01, 2.86989796e-01, 3.30994898e+00,\n",
       "         2.59821429e+00],\n",
       "        [3.72857143e+01, 2.86989796e-02, 5.73979592e-02, 6.61989796e-01,\n",
       "         8.57142857e-01],\n",
       "        [3.35357143e+01, 2.14285714e+00, 5.89285714e-01, 1.78571429e-02,\n",
       "         7.14285714e-02]],\n",
       "\n",
       "       [[5.37902381e+02, 1.44690476e+02, 4.33910714e+01, 1.51047619e+01,\n",
       "         6.96380952e+01],\n",
       "        [1.17671429e+02, 0.00000000e+00, 8.03571429e-02, 2.14285714e-01,\n",
       "         2.57142857e+00],\n",
       "        [3.44857143e+01, 0.00000000e+00, 0.00000000e+00, 0.00000000e+00,\n",
       "         4.28571429e-01],\n",
       "        [3.07857143e+01, 0.00000000e+00, 0.00000000e+00, 0.00000000e+00,\n",
       "         0.00000000e+00]],\n",
       "\n",
       "       [[5.19577381e+02, 1.40452806e+02, 3.72091837e+01, 1.48904762e+01,\n",
       "         1.00000000e+01],\n",
       "        [1.16823852e+02, 0.00000000e+00, 0.00000000e+00, 0.00000000e+00,\n",
       "         2.00000000e+00],\n",
       "        [3.41661990e+01, 0.00000000e+00, 0.00000000e+00, 0.00000000e+00,\n",
       "         1.00000000e-01],\n",
       "        [2.65357143e+01, 0.00000000e+00, 0.00000000e+00, 0.00000000e+00,\n",
       "         0.00000000e+00]]])"
      ]
     },
     "execution_count": 133,
     "metadata": {},
     "output_type": "execute_result"
    }
   ],
   "source": [
    "# Sorted\n",
    "np.transpose(np.sort(np.dstack(tmpjMSFS))[:, :, ::-1], axes=[2,0,1])\n"
   ]
  }
 ],
 "metadata": {
  "kernelspec": {
   "display_name": "Python 3",
   "language": "python",
   "name": "python3"
  },
  "language_info": {
   "codemirror_mode": {
    "name": "ipython",
    "version": 3
   },
   "file_extension": ".py",
   "mimetype": "text/x-python",
   "name": "python",
   "nbconvert_exporter": "python",
   "pygments_lexer": "ipython3",
   "version": "3.6.10"
  }
 },
 "nbformat": 4,
 "nbformat_minor": 4
}
