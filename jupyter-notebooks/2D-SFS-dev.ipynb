{
 "cells": [
  {
   "cell_type": "code",
   "execution_count": 13,
   "metadata": {},
   "outputs": [
    {
     "name": "stdout",
     "output_type": "stream",
     "text": [
      "The autoreload extension is already loaded. To reload it, use:\n",
      "  %reload_ext autoreload\n"
     ]
    }
   ],
   "source": [
    "%load_ext autoreload\n",
    "%autoreload 2\n",
    "%matplotlib inline\n",
    "\n",
    "import glob\n",
    "import matplotlib.pyplot as plt\n",
    "import numpy as np\n",
    "import pandas as pd\n",
    "import PTA\n",
    "\n",
    "from PTA import jmsfs"
   ]
  },
  {
   "cell_type": "code",
   "execution_count": 48,
   "metadata": {},
   "outputs": [
    {
     "name": "stdout",
     "output_type": "stream",
     "text": [
      "['../example_data/simulated-2dsfs/5samps/sp3.sfs', '../example_data/simulated-2dsfs/5samps/sp1.sfs', '../example_data/simulated-2dsfs/5samps/sp2.sfs']\n"
     ]
    },
    {
     "data": {
      "text/plain": [
       "\n",
       "    jMSFS: ntaxa=3 - shape=(6, 6)\n",
       "\n",
       "[[[0.     0.3148 0.1192 0.0353 0.0268 0.1331]\n",
       "  [0.2753 0.0006 0.0004 0.0006 0.0003 0.0046]\n",
       "  [0.1038 0.     0.0001 0.0004 0.0002 0.0034]\n",
       "  [0.037  0.     0.     0.     0.     0.0008]\n",
       "  [0.0242 0.     0.     0.     0.     0.0001]\n",
       "  [0.0521 0.001  0.0007 0.     0.     0.    ]]\n",
       "\n",
       " [[0.     0.263  0.1028 0.0333 0.0216 0.126 ]\n",
       "  [0.2558 0.     0.0002 0.     0.     0.004 ]\n",
       "  [0.0989 0.     0.     0.     0.     0.0031]\n",
       "  [0.0338 0.     0.     0.     0.     0.0008]\n",
       "  [0.0213 0.     0.     0.     0.     0.0001]\n",
       "  [0.0507 0.     0.     0.     0.     0.    ]]\n",
       "\n",
       " [[0.     0.2478 0.0967 0.0313 0.0204 0.0341]\n",
       "  [0.2398 0.     0.     0.     0.     0.0022]\n",
       "  [0.0921 0.     0.     0.     0.     0.0022]\n",
       "  [0.0286 0.     0.     0.     0.     0.    ]\n",
       "  [0.0196 0.     0.     0.     0.     0.    ]\n",
       "  [0.0352 0.     0.     0.     0.     0.    ]]]\n",
       "            "
      ]
     },
     "execution_count": 48,
     "metadata": {},
     "output_type": "execute_result"
    }
   ],
   "source": [
    "sfs_files = glob.glob(\"../example_data/simulated-2dsfs/5samps/*.sfs\")\n",
    "print(sfs_files)\n",
    "my_jmsfs = jmsfs.JointMultiSFS(sfs_files, proportions=True, sort=True)\n",
    "\n",
    "my_jmsfs"
   ]
  },
  {
   "cell_type": "code",
   "execution_count": 14,
   "metadata": {},
   "outputs": [
    {
     "data": {
      "text/plain": [
       "<matplotlib.colorbar.Colorbar at 0x7f2b0e949db0>"
      ]
     },
     "execution_count": 14,
     "metadata": {},
     "output_type": "execute_result"
    },
    {
     "data": {
      "image/png": "[encoded data removed]",
      "text/plain": [
       "<Figure size 432x288 with 2 Axes>"
      ]
     },
     "metadata": {
      "needs_background": "light"
     },
     "output_type": "display_data"
    }
   ],
   "source": [
    "my_jmsfs.plot_2d_sfs(sfs_idx=1)"
   ]
  },
  {
   "cell_type": "code",
   "execution_count": 85,
   "metadata": {},
   "outputs": [
    {
     "data": {
      "text/plain": [
       "{'sorted_sfs': True,\n",
       " 'allow_psi>1': False,\n",
       " 'proportional_msfs': False,\n",
       " 'mu_variance': 0}"
      ]
     },
     "execution_count": 85,
     "metadata": {},
     "output_type": "execute_result"
    }
   ],
   "source": [
    "data = PTA.DemographicModel(\"2D-test\")\n",
    "data._hackersonly"
   ]
  },
  {
   "cell_type": "code",
   "execution_count": 8,
   "metadata": {},
   "outputs": [
    {
     "data": {
      "text/plain": [
       "array([[[4.80982143e+02, 1.63386905e+02, 6.18643707e+01, 1.94404762e+01,\n",
       "         1.38858418e+01, 7.35178571e+01],\n",
       "        [1.60686012e+02, 3.34821429e-01, 2.23214286e-01, 2.86989796e-01,\n",
       "         1.43494898e-01, 2.67857143e+00],\n",
       "        [6.05952381e+01, 0.00000000e+00, 6.37755102e-02, 1.91326531e-01,\n",
       "         9.56632653e-02, 1.85714286e+00],\n",
       "        [1.91785714e+01, 0.00000000e+00, 0.00000000e+00, 0.00000000e+00,\n",
       "         0.00000000e+00, 4.28571429e-01],\n",
       "        [1.41250000e+01, 0.00000000e+00, 0.00000000e+00, 0.00000000e+00,\n",
       "         0.00000000e+00, 7.14285714e-02],\n",
       "        [2.79285714e+01, 5.35714286e-01, 3.57142857e-01, 0.00000000e+00,\n",
       "         0.00000000e+00, 0.00000000e+00]],\n",
       "\n",
       "       [[4.47660714e+02, 1.44982143e+02, 5.66785714e+01, 1.94404762e+01,\n",
       "         1.18988095e+01, 7.34107143e+01],\n",
       "        [1.32750000e+02, 0.00000000e+00, 9.56632653e-02, 0.00000000e+00,\n",
       "         0.00000000e+00, 2.21428571e+00],\n",
       "        [5.13214286e+01, 0.00000000e+00, 0.00000000e+00, 0.00000000e+00,\n",
       "         0.00000000e+00, 1.78571429e+00],\n",
       "        [1.86428571e+01, 0.00000000e+00, 0.00000000e+00, 0.00000000e+00,\n",
       "         0.00000000e+00, 4.28571429e-01],\n",
       "        [1.10535714e+01, 0.00000000e+00, 0.00000000e+00, 0.00000000e+00,\n",
       "         0.00000000e+00, 7.14285714e-02],\n",
       "        [2.70535714e+01, 0.00000000e+00, 0.00000000e+00, 0.00000000e+00,\n",
       "         0.00000000e+00, 0.00000000e+00]],\n",
       "\n",
       "       [[4.15379464e+02, 1.44647321e+02, 5.64553571e+01, 1.62359694e+01,\n",
       "         1.18988095e+01, 1.77161990e+01],\n",
       "        [1.32214286e+02, 0.00000000e+00, 0.00000000e+00, 0.00000000e+00,\n",
       "         0.00000000e+00, 1.15242347e+00],\n",
       "        [5.07857143e+01, 0.00000000e+00, 0.00000000e+00, 0.00000000e+00,\n",
       "         0.00000000e+00, 1.14923469e+00],\n",
       "        [1.67142857e+01, 0.00000000e+00, 0.00000000e+00, 0.00000000e+00,\n",
       "         0.00000000e+00, 0.00000000e+00],\n",
       "        [1.07857143e+01, 0.00000000e+00, 0.00000000e+00, 0.00000000e+00,\n",
       "         0.00000000e+00, 0.00000000e+00],\n",
       "        [2.05178571e+01, 0.00000000e+00, 0.00000000e+00, 0.00000000e+00,\n",
       "         0.00000000e+00, 0.00000000e+00]]])"
      ]
     },
     "execution_count": 8,
     "metadata": {},
     "output_type": "execute_result"
    }
   ],
   "source": [
    "np.array(my_jmsfs.jMSFS)"
   ]
  }
 ],
 "metadata": {
  "kernelspec": {
   "display_name": "Python 3 (ipykernel)",
   "language": "python",
   "name": "python3"
  },
  "language_info": {
   "codemirror_mode": {
    "name": "ipython",
    "version": 3
   },
   "file_extension": ".py",
   "mimetype": "text/x-python",
   "name": "python",
   "nbconvert_exporter": "python",
   "pygments_lexer": "ipython3",
   "version": "3.10.4"
  }
 },
 "nbformat": 4,
 "nbformat_minor": 4
}
