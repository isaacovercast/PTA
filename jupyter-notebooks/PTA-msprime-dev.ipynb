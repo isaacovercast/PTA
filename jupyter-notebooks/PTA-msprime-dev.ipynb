{
 "cells": [
  {
   "cell_type": "code",
   "execution_count": 49,
   "metadata": {},
   "outputs": [
    {
     "data": {
      "text/plain": [
       "'0.7.3'"
      ]
     },
     "execution_count": 49,
     "metadata": {},
     "output_type": "execute_result"
    }
   ],
   "source": [
    "import msprime\n",
    "import numpy as np\n",
    "import pandas as pd\n",
    "from IPython.display import display,SVG\n",
    "\n",
    "msprime.__version__"
   ]
  },
  {
   "cell_type": "code",
   "execution_count": 166,
   "metadata": {},
   "outputs": [
    {
     "data": {
      "image/svg+xml": [
       "<svg baseProfile=\"full\" height=\"200\" version=\"1.1\" width=\"200\" xmlns=\"http://www.w3.org/2000/svg\" xmlns:ev=\"http://www.w3.org/2001/xml-events\" xmlns:xlink=\"http://www.w3.org/1999/xlink\"><defs/><g id=\"tree_0\"><g fill=\"none\" id=\"edges\" stroke=\"black\"><path d=\"M 26.363636363636363 170.0 V 30.0 H 53.84943181818183\" id=\"edge_0_1\"/><path d=\"M 81.33522727272728 74.47948409979286 V 30.0 H 53.84943181818183\" id=\"edge_0_17\"/><path d=\"M 55.0 98.47184269618091 V 74.47948409979286 H 81.33522727272728\" id=\"edge_0_15\"/><path d=\"M 42.72727272727273 170.0 V 98.47184269618091 H 55.0\" id=\"edge_0_9\"/><path d=\"M 67.27272727272728 101.63330620221404 V 98.47184269618091 H 55.0\" id=\"edge_0_14\"/><path d=\"M 59.09090909090909 170.0 V 101.63330620221404 H 67.27272727272728\" id=\"edge_0_3\"/><path d=\"M 75.45454545454545 170.0 V 101.63330620221404 H 67.27272727272728\" id=\"edge_0_4\"/><path d=\"M 107.67045454545455 74.80458458107361 V 74.47948409979286 H 81.33522727272728\" id=\"edge_0_16\"/><path d=\"M 91.81818181818181 170.0 V 74.80458458107361 H 107.67045454545455\" id=\"edge_0_0\"/><path d=\"M 123.52272727272728 105.13431422551369 V 74.80458458107361 H 107.67045454545455\" id=\"edge_0_13\"/><path d=\"M 108.18181818181817 170.0 V 105.13431422551369 H 123.52272727272728\" id=\"edge_0_8\"/><path d=\"M 138.86363636363637 107.45058284637204 V 105.13431422551369 H 123.52272727272728\" id=\"edge_0_12\"/><path d=\"M 124.54545454545453 170.0 V 107.45058284637204 H 138.86363636363637\" id=\"edge_0_5\"/><path d=\"M 153.1818181818182 116.99783988439432 V 107.45058284637204 H 138.86363636363637\" id=\"edge_0_11\"/><path d=\"M 140.9090909090909 170.0 V 116.99783988439432 H 153.1818181818182\" id=\"edge_0_6\"/><path d=\"M 165.45454545454547 133.18653141159928 V 116.99783988439432 H 153.1818181818182\" id=\"edge_0_10\"/><path d=\"M 157.27272727272728 170.0 V 133.18653141159928 H 165.45454545454547\" id=\"edge_0_2\"/><path d=\"M 173.63636363636365 170.0 V 133.18653141159928 H 165.45454545454547\" id=\"edge_0_7\"/></g><g id=\"symbols\"><g class=\"nodes\"><circle cx=\"53.84943181818183\" cy=\"30.0\" id=\"node_0_18\" r=\"3\"/><circle cx=\"26.363636363636363\" cy=\"170.0\" id=\"node_0_1\" r=\"3\"/><circle cx=\"81.33522727272728\" cy=\"74.47948409979286\" id=\"node_0_17\" r=\"3\"/><circle cx=\"55.0\" cy=\"98.47184269618091\" id=\"node_0_15\" r=\"3\"/><circle cx=\"42.72727272727273\" cy=\"170.0\" id=\"node_0_9\" r=\"3\"/><circle cx=\"67.27272727272728\" cy=\"101.63330620221404\" id=\"node_0_14\" r=\"3\"/><circle cx=\"59.09090909090909\" cy=\"170.0\" id=\"node_0_3\" r=\"3\"/><circle cx=\"75.45454545454545\" cy=\"170.0\" id=\"node_0_4\" r=\"3\"/><circle cx=\"107.67045454545455\" cy=\"74.80458458107361\" id=\"node_0_16\" r=\"3\"/><circle cx=\"91.81818181818181\" cy=\"170.0\" id=\"node_0_0\" r=\"3\"/><circle cx=\"123.52272727272728\" cy=\"105.13431422551369\" id=\"node_0_13\" r=\"3\"/><circle cx=\"108.18181818181817\" cy=\"170.0\" id=\"node_0_8\" r=\"3\"/><circle cx=\"138.86363636363637\" cy=\"107.45058284637204\" id=\"node_0_12\" r=\"3\"/><circle cx=\"124.54545454545453\" cy=\"170.0\" id=\"node_0_5\" r=\"3\"/><circle cx=\"153.1818181818182\" cy=\"116.99783988439432\" id=\"node_0_11\" r=\"3\"/><circle cx=\"140.9090909090909\" cy=\"170.0\" id=\"node_0_6\" r=\"3\"/><circle cx=\"165.45454545454547\" cy=\"133.18653141159928\" id=\"node_0_10\" r=\"3\"/><circle cx=\"157.27272727272728\" cy=\"170.0\" id=\"node_0_2\" r=\"3\"/><circle cx=\"173.63636363636365\" cy=\"170.0\" id=\"node_0_7\" r=\"3\"/></g><g class=\"mutations\" fill=\"red\"><rect height=\"6\" transform=\"translate(-3, -3)\" width=\"6\" x=\"26.363636363636363\" y=\"100.0\"/></g></g><g font-size=\"14\" id=\"labels\"><g class=\"nodes\"><g text-anchor=\"start\"><text x=\"86.33522727272728\" y=\"69.47948409979286\">17</text><text x=\"72.27272727272728\" y=\"96.63330620221404\">14</text><text x=\"112.67045454545455\" y=\"69.80458458107361\">16</text><text x=\"128.52272727272728\" y=\"100.13431422551369\">13</text><text x=\"143.86363636363637\" y=\"102.45058284637204\">12</text><text x=\"158.1818181818182\" y=\"111.99783988439432\">11</text><text x=\"170.45454545454547\" y=\"128.18653141159928\">10</text></g><g text-anchor=\"middle\"><text x=\"53.84943181818183\" y=\"25.0\">18</text><text x=\"26.363636363636363\" y=\"190.0\">1</text><text x=\"42.72727272727273\" y=\"190.0\">9</text><text x=\"59.09090909090909\" y=\"190.0\">3</text><text x=\"75.45454545454545\" y=\"190.0\">4</text><text x=\"91.81818181818181\" y=\"190.0\">0</text><text x=\"108.18181818181817\" y=\"190.0\">8</text><text x=\"124.54545454545453\" y=\"190.0\">5</text><text x=\"140.9090909090909\" y=\"190.0\">6</text><text x=\"157.27272727272728\" y=\"190.0\">2</text><text x=\"173.63636363636365\" y=\"190.0\">7</text></g><g text-anchor=\"end\"><text x=\"50.0\" y=\"93.47184269618091\">15</text></g></g><g class=\"mutations\" font-style=\"italic\"><g text-anchor=\"start\"/><g text-anchor=\"end\"><text x=\"21.363636363636363\" y=\"104.0\">0</text></g></g></g></g></svg>"
      ],
      "text/plain": [
       "<IPython.core.display.SVG object>"
      ]
     },
     "execution_count": 166,
     "metadata": {},
     "output_type": "execute_result"
    }
   ],
   "source": [
    "N_e = 10000\n",
    "N_e_Anc = 1000\n",
    "t_exp = 1000\n",
    "\n",
    "pop0 = msprime.PopulationConfiguration(sample_size=10, initial_size=N_e)\n",
    "size_change = msprime.PopulationParametersChange(time=t_exp, initial_size=N_e_Anc, population=0)\n",
    "\n",
    "afs = []\n",
    "for i in range(10):\n",
    "    for x in range(1000):\n",
    "        tree_sequence = msprime.simulate(population_configurations=[pop0], demographic_events=[size_change],\\\n",
    "                                     Ne=10000, length=10e3,\\\n",
    "                                     mutation_rate=1e-8, recombination_rate=0)\n",
    "        afs.append(tree_sequence.allele_frequency_spectrum(span_normalise=False, polarised=True))\n",
    "tree = tree_sequence.first()\n",
    "SVG(tree.draw())"
   ]
  },
  {
   "cell_type": "code",
   "execution_count": 162,
   "metadata": {},
   "outputs": [
    {
     "data": {
      "text/plain": [
       "array([  0., 946., 353., 110., 102.,  22.,  37.,  39.,  47.,  50.,   0.])"
      ]
     },
     "execution_count": 162,
     "metadata": {},
     "output_type": "execute_result"
    }
   ],
   "source": [
    "tree_sequence.allele_frequency_spectrum(span_normalise=False, polarised=True)"
   ]
  },
  {
   "cell_type": "code",
   "execution_count": 165,
   "metadata": {},
   "outputs": [
    {
     "data": {
      "text/plain": [
       "array([   0., 1170.,  246.,  158.,   88.,   93.,   57.,   61.,   58.,\n",
       "         38.,    0.])"
      ]
     },
     "execution_count": 165,
     "metadata": {},
     "output_type": "execute_result"
    }
   ],
   "source": [
    "np.sum(afs, axis=0)"
   ]
  },
  {
   "cell_type": "code",
   "execution_count": 168,
   "metadata": {},
   "outputs": [
    {
     "ename": "ValueError",
     "evalue": "All chunk dimensions must be positive (all chunk dimensions must be positive)",
     "output_type": "error",
     "traceback": [
      "\u001b[0;31m---------------------------------------------------------------------------\u001b[0m",
      "\u001b[0;31mValueError\u001b[0m                                Traceback (most recent call last)",
      "\u001b[0;32m<ipython-input-168-300a99a270e1>\u001b[0m in \u001b[0;36m<module>\u001b[0;34m()\u001b[0m\n\u001b[1;32m      9\u001b[0m         \u001b[0mdtype\u001b[0m\u001b[0;34m=\u001b[0m\u001b[0mnp\u001b[0m\u001b[0;34m.\u001b[0m\u001b[0muint32\u001b[0m\u001b[0;34m,\u001b[0m\u001b[0;34m\u001b[0m\u001b[0;34m\u001b[0m\u001b[0m\n\u001b[1;32m     10\u001b[0m         \u001b[0mchunks\u001b[0m\u001b[0;34m=\u001b[0m\u001b[0;34m(\u001b[0m\u001b[0moptim\u001b[0m\u001b[0;34m,\u001b[0m \u001b[0mmaxlen\u001b[0m\u001b[0;34m,\u001b[0m \u001b[0;36m4\u001b[0m\u001b[0;34m)\u001b[0m\u001b[0;34m,\u001b[0m\u001b[0;34m\u001b[0m\u001b[0;34m\u001b[0m\u001b[0m\n\u001b[0;32m---> 11\u001b[0;31m         compression=\"gzip\")\n\u001b[0m",
      "\u001b[0;32m~/miniconda2/envs/momi-py36/lib/python3.6/site-packages/h5py/_hl/group.py\u001b[0m in \u001b[0;36mcreate_dataset\u001b[0;34m(self, name, shape, dtype, data, **kwds)\u001b[0m\n\u001b[1;32m    134\u001b[0m \u001b[0;34m\u001b[0m\u001b[0m\n\u001b[1;32m    135\u001b[0m         \u001b[0;32mwith\u001b[0m \u001b[0mphil\u001b[0m\u001b[0;34m:\u001b[0m\u001b[0;34m\u001b[0m\u001b[0;34m\u001b[0m\u001b[0m\n\u001b[0;32m--> 136\u001b[0;31m             \u001b[0mdsid\u001b[0m \u001b[0;34m=\u001b[0m \u001b[0mdataset\u001b[0m\u001b[0;34m.\u001b[0m\u001b[0mmake_new_dset\u001b[0m\u001b[0;34m(\u001b[0m\u001b[0mself\u001b[0m\u001b[0;34m,\u001b[0m \u001b[0mshape\u001b[0m\u001b[0;34m,\u001b[0m \u001b[0mdtype\u001b[0m\u001b[0;34m,\u001b[0m \u001b[0mdata\u001b[0m\u001b[0;34m,\u001b[0m \u001b[0;34m**\u001b[0m\u001b[0mkwds\u001b[0m\u001b[0;34m)\u001b[0m\u001b[0;34m\u001b[0m\u001b[0;34m\u001b[0m\u001b[0m\n\u001b[0m\u001b[1;32m    137\u001b[0m             \u001b[0mdset\u001b[0m \u001b[0;34m=\u001b[0m \u001b[0mdataset\u001b[0m\u001b[0;34m.\u001b[0m\u001b[0mDataset\u001b[0m\u001b[0;34m(\u001b[0m\u001b[0mdsid\u001b[0m\u001b[0;34m)\u001b[0m\u001b[0;34m\u001b[0m\u001b[0;34m\u001b[0m\u001b[0m\n\u001b[1;32m    138\u001b[0m             \u001b[0;32mif\u001b[0m \u001b[0mname\u001b[0m \u001b[0;32mis\u001b[0m \u001b[0;32mnot\u001b[0m \u001b[0;32mNone\u001b[0m\u001b[0;34m:\u001b[0m\u001b[0;34m\u001b[0m\u001b[0;34m\u001b[0m\u001b[0m\n",
      "\u001b[0;32m~/miniconda2/envs/momi-py36/lib/python3.6/site-packages/h5py/_hl/dataset.py\u001b[0m in \u001b[0;36mmake_new_dset\u001b[0;34m(parent, shape, dtype, data, chunks, compression, shuffle, fletcher32, maxshape, compression_opts, fillvalue, scaleoffset, track_times, external, track_order, dcpl)\u001b[0m\n\u001b[1;32m    138\u001b[0m         \u001b[0mdcpl\u001b[0m \u001b[0;32mor\u001b[0m \u001b[0mh5p\u001b[0m\u001b[0;34m.\u001b[0m\u001b[0mcreate\u001b[0m\u001b[0;34m(\u001b[0m\u001b[0mh5p\u001b[0m\u001b[0;34m.\u001b[0m\u001b[0mDATASET_CREATE\u001b[0m\u001b[0;34m)\u001b[0m\u001b[0;34m,\u001b[0m \u001b[0mshape\u001b[0m\u001b[0;34m,\u001b[0m \u001b[0mdtype\u001b[0m\u001b[0;34m,\u001b[0m\u001b[0;34m\u001b[0m\u001b[0;34m\u001b[0m\u001b[0m\n\u001b[1;32m    139\u001b[0m         \u001b[0mchunks\u001b[0m\u001b[0;34m,\u001b[0m \u001b[0mcompression\u001b[0m\u001b[0;34m,\u001b[0m \u001b[0mcompression_opts\u001b[0m\u001b[0;34m,\u001b[0m \u001b[0mshuffle\u001b[0m\u001b[0;34m,\u001b[0m \u001b[0mfletcher32\u001b[0m\u001b[0;34m,\u001b[0m\u001b[0;34m\u001b[0m\u001b[0;34m\u001b[0m\u001b[0m\n\u001b[0;32m--> 140\u001b[0;31m         maxshape, scaleoffset, external)\n\u001b[0m\u001b[1;32m    141\u001b[0m \u001b[0;34m\u001b[0m\u001b[0m\n\u001b[1;32m    142\u001b[0m     \u001b[0;32mif\u001b[0m \u001b[0mfillvalue\u001b[0m \u001b[0;32mis\u001b[0m \u001b[0;32mnot\u001b[0m \u001b[0;32mNone\u001b[0m\u001b[0;34m:\u001b[0m\u001b[0;34m\u001b[0m\u001b[0;34m\u001b[0m\u001b[0m\n",
      "\u001b[0;32m~/miniconda2/envs/momi-py36/lib/python3.6/site-packages/h5py/_hl/filters.py\u001b[0m in \u001b[0;36mfill_dcpl\u001b[0;34m(plist, shape, dtype, chunks, compression, compression_opts, shuffle, fletcher32, maxshape, scaleoffset, external)\u001b[0m\n\u001b[1;32m    210\u001b[0m \u001b[0;34m\u001b[0m\u001b[0m\n\u001b[1;32m    211\u001b[0m     \u001b[0;32mif\u001b[0m \u001b[0mchunks\u001b[0m \u001b[0;32mis\u001b[0m \u001b[0;32mnot\u001b[0m \u001b[0;32mNone\u001b[0m\u001b[0;34m:\u001b[0m\u001b[0;34m\u001b[0m\u001b[0;34m\u001b[0m\u001b[0m\n\u001b[0;32m--> 212\u001b[0;31m         \u001b[0mplist\u001b[0m\u001b[0;34m.\u001b[0m\u001b[0mset_chunk\u001b[0m\u001b[0;34m(\u001b[0m\u001b[0mchunks\u001b[0m\u001b[0;34m)\u001b[0m\u001b[0;34m\u001b[0m\u001b[0;34m\u001b[0m\u001b[0m\n\u001b[0m\u001b[1;32m    213\u001b[0m         \u001b[0mplist\u001b[0m\u001b[0;34m.\u001b[0m\u001b[0mset_fill_time\u001b[0m\u001b[0;34m(\u001b[0m\u001b[0mh5d\u001b[0m\u001b[0;34m.\u001b[0m\u001b[0mFILL_TIME_ALLOC\u001b[0m\u001b[0;34m)\u001b[0m  \u001b[0;31m# prevent resize glitch\u001b[0m\u001b[0;34m\u001b[0m\u001b[0;34m\u001b[0m\u001b[0m\n\u001b[1;32m    214\u001b[0m \u001b[0;34m\u001b[0m\u001b[0m\n",
      "\u001b[0;32mh5py/_objects.pyx\u001b[0m in \u001b[0;36mh5py._objects.with_phil.wrapper\u001b[0;34m()\u001b[0m\n",
      "\u001b[0;32mh5py/_objects.pyx\u001b[0m in \u001b[0;36mh5py._objects.with_phil.wrapper\u001b[0;34m()\u001b[0m\n",
      "\u001b[0;32mh5py/h5p.pyx\u001b[0m in \u001b[0;36mh5py.h5p.PropDCID.set_chunk\u001b[0;34m()\u001b[0m\n",
      "\u001b[0;31mValueError\u001b[0m: All chunk dimensions must be positive (all chunk dimensions must be positive)"
     ]
    }
   ],
   "source": [
    "import h5py\n",
    "nrows = 10000\n",
    "maxlen = 0\n",
    "optim = 5000\n",
    "with h5py.File(\"/tmp/watdo.hdf5\", 'w') as ioh5:\n",
    "    dcat = ioh5.create_dataset(\n",
    "        name=\"catg\",\n",
    "        shape=(nrows, maxlen, 4),\n",
    "        dtype=np.uint32,\n",
    "        chunks=(optim, maxlen, 4),\n",
    "        compression=\"gzip\")"
   ]
  }
 ],
 "metadata": {
  "kernelspec": {
   "display_name": "Python 3",
   "language": "python",
   "name": "python3"
  },
  "language_info": {
   "codemirror_mode": {
    "name": "ipython",
    "version": 3
   },
   "file_extension": ".py",
   "mimetype": "text/x-python",
   "name": "python",
   "nbconvert_exporter": "python",
   "pygments_lexer": "ipython3",
   "version": "3.6.8"
  }
 },
 "nbformat": 4,
 "nbformat_minor": 2
}
